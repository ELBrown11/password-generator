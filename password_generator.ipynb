{
  "nbformat": 4,
  "nbformat_minor": 0,
  "metadata": {
    "colab": {
      "name": "password_generator.ipynb",
      "provenance": [],
      "authorship_tag": "ABX9TyOR13oJrFgESB3VTbCqywf2",
      "include_colab_link": true
    },
    "kernelspec": {
      "name": "python3",
      "display_name": "Python 3"
    },
    "language_info": {
      "name": "python"
    }
  },
  "cells": [
    {
      "cell_type": "markdown",
      "metadata": {
        "id": "view-in-github",
        "colab_type": "text"
      },
      "source": [
        "<a href=\"https://colab.research.google.com/github/ELBrown11/password-generator/blob/main/password_generator.ipynb\" target=\"_parent\"><img src=\"https://colab.research.google.com/assets/colab-badge.svg\" alt=\"Open In Colab\"/></a>"
      ]
    },
    {
      "cell_type": "markdown",
      "source": [
        "# **Version #1**\n",
        "\n",
        "Make a password with 4 random letters, 4 random number and then a random symbol."
      ],
      "metadata": {
        "id": "EM75iAdWzuyB"
      }
    },
    {
      "cell_type": "code",
      "execution_count": null,
      "metadata": {
        "colab": {
          "base_uri": "https://localhost:8080/"
        },
        "id": "ug4ocLqJDJaf",
        "outputId": "ee2896f3-3ff1-4734-fd9e-0a844d2285e8"
      },
      "outputs": [
        {
          "output_type": "stream",
          "name": "stdout",
          "text": [
            "MApb 3014 %\n"
          ]
        }
      ],
      "source": [
        "import random\n",
        "import string\n",
        "\n",
        "for i in range(1):\n",
        "    result_str = ''.join(random.sample(string.ascii_letters,4))\n",
        "    numbers = ''.join(random.sample(string.digits,4))\n",
        "    symbols= ''.join(random.choice(\"?%$#@\"))\n",
        "    print(result_str,numbers,symbols)\n",
        " # improve this by making it so the user can add was type of pass word they need,\n",
        " # how many letters, numbers, symbols"
      ]
    },
    {
      "cell_type": "markdown",
      "source": [
        "# **Version #2**\n",
        "\n",
        "Makes a password by asking the user to input the amount of numbers and letters they want in the password. The program then outputs a password with the x number of numbers and y number of letter. There's also a symbol at the end and I added dashed in between the numbers, letters, and symbol."
      ],
      "metadata": {
        "id": "dGqfnkmCz1Kw"
      }
    },
    {
      "cell_type": "code",
      "source": [
        "import random\n",
        "import string\n",
        "\n",
        "print(\"Hi I'm a password generator! \\n\")\n",
        "number_input = input(\"Tell me how many numbers you need:\")\n",
        "letter_input = input(\"Tell me how many letters you need:\")\n",
        "print('')\n",
        "for i in range(1):\n",
        "    letter =  int(letter_input)\n",
        "    number = int(number_input)\n",
        "    result_str = ''.join(random.sample(string.ascii_letters,letter))\n",
        "    dash = \"-\"\n",
        "    numbers = ''.join(random.sample(string.digits,number))\n",
        "    symbols= ''.join(random.choice(\"?%$#@\"))\n",
        "    print(f'Your password: {result_str}{dash}{numbers}{dash}{symbols}')"
      ],
      "metadata": {
        "id": "bdlmDDcBD0uf",
        "colab": {
          "base_uri": "https://localhost:8080/"
        },
        "outputId": "74e5b737-7ffe-4d0c-e2be-6df537a22787"
      },
      "execution_count": null,
      "outputs": [
        {
          "output_type": "stream",
          "name": "stdout",
          "text": [
            "Hi I'm a password generator! \n",
            "\n",
            "Tell me how many numbers you need:4\n",
            "Tell me how many letters you need:4\n",
            "\n",
            "Your password: EZGf-4798-%\n"
          ]
        }
      ]
    },
    {
      "cell_type": "markdown",
      "source": [
        "# **Version #3**\n",
        "\n",
        "This version of the program creates an 11 character password where there's a combination of numbers and letter in the first group of 4 characters and then the second group of 4 characters. It also includes dashes and one symbol like the previous version. "
      ],
      "metadata": {
        "id": "wNwp3c3gjND0"
      }
    },
    {
      "cell_type": "code",
      "source": [
        "import random\n",
        "import string\n",
        "\n",
        "print(\"Hi I'm a password generator! \\n\")\n",
        "\n",
        "print('')\n",
        "for i in range(1):\n",
        "    result_str1a = ''.join(random.sample(string.ascii_letters,1))\n",
        "    result_str1b = ''.join(random.sample(string.ascii_letters,1))\n",
        "    result_str2a = ''.join(random.sample(string.ascii_letters,1))\n",
        "    result_str2b = ''.join(random.sample(string.ascii_letters,1))\n",
        "    dash = \"-\"\n",
        "    numbers1a = ''.join(random.sample(string.digits,1))\n",
        "    numbers1b = ''.join(random.sample(string.digits,1))\n",
        "    numbers2a = ''.join(random.sample(string.digits,1))\n",
        "    numbers2b = ''.join(random.sample(string.digits,1))\n",
        "    symbols= ''.join(random.choice(\"?%$#@\"))\n",
        "    print(f'Your password: {result_str1a}{numbers1a}{result_str1b}{numbers1b}{dash}{result_str2a}{numbers2a}{result_str2b}{numbers2b}{dash}{symbols}')"
      ],
      "metadata": {
        "id": "XvGWaUDA0WPK",
        "colab": {
          "base_uri": "https://localhost:8080/"
        },
        "outputId": "ff5aeab8-0ba2-4f78-bdca-8f5a90aadffb"
      },
      "execution_count": 3,
      "outputs": [
        {
          "output_type": "stream",
          "name": "stdout",
          "text": [
            "Hi I'm a password generator! \n",
            "\n",
            "\n",
            "Your password: n5Q0-e3K1-$\n"
          ]
        }
      ]
    }
  ]
}