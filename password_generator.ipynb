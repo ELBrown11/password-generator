{
  "nbformat": 4,
  "nbformat_minor": 0,
  "metadata": {
    "colab": {
      "name": "password_generator.ipynb",
      "provenance": [],
      "authorship_tag": "ABX9TyMwJD43wkpumYTv0kl6hupr",
      "include_colab_link": true
    },
    "kernelspec": {
      "name": "python3",
      "display_name": "Python 3"
    },
    "language_info": {
      "name": "python"
    }
  },
  "cells": [
    {
      "cell_type": "markdown",
      "metadata": {
        "id": "view-in-github",
        "colab_type": "text"
      },
      "source": [
        "<a href=\"https://colab.research.google.com/github/ELBrown11/password-generator/blob/main/password_generator.ipynb\" target=\"_parent\"><img src=\"https://colab.research.google.com/assets/colab-badge.svg\" alt=\"Open In Colab\"/></a>"
      ]
    },
    {
      "cell_type": "code",
      "execution_count": 1,
      "metadata": {
        "colab": {
          "base_uri": "https://localhost:8080/"
        },
        "id": "ug4ocLqJDJaf",
        "outputId": "fba228ad-1ede-414b-9aff-0ee103ac4bbd"
      },
      "outputs": [
        {
          "output_type": "stream",
          "name": "stdout",
          "text": [
            "XrFZ 4832 $\n"
          ]
        }
      ],
      "source": [
        "import random\n",
        "import string\n",
        "\n",
        "for i in range(1):\n",
        "    result_str = ''.join(random.sample(string.ascii_letters,4))\n",
        "    numbers = ''.join(random.sample(string.digits,4))\n",
        "    symbols= ''.join(random.choice(\"?%$#@\"))\n",
        "    print(result_str,numbers,symbols)\n",
        " # improve this by making it so the user can add was type of pass word they need,\n",
        " # how many letters, numbers, symbols"
      ]
    }
  ]
}