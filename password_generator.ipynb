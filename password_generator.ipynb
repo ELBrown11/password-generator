{
  "nbformat": 4,
  "nbformat_minor": 0,
  "metadata": {
    "colab": {
      "name": "password_generator.ipynb",
      "provenance": [],
      "authorship_tag": "ABX9TyOxWu8yiDLpbzVL0PVViiRK",
      "include_colab_link": true
    },
    "kernelspec": {
      "name": "python3",
      "display_name": "Python 3"
    },
    "language_info": {
      "name": "python"
    }
  },
  "cells": [
    {
      "cell_type": "markdown",
      "metadata": {
        "id": "view-in-github",
        "colab_type": "text"
      },
      "source": [
        "<a href=\"https://colab.research.google.com/github/ELBrown11/password-generator/blob/main/password_generator.ipynb\" target=\"_parent\"><img src=\"https://colab.research.google.com/assets/colab-badge.svg\" alt=\"Open In Colab\"/></a>"
      ]
    },
    {
      "cell_type": "markdown",
      "source": [
        "# **Original Program**"
      ],
      "metadata": {
        "id": "EM75iAdWzuyB"
      }
    },
    {
      "cell_type": "code",
      "execution_count": null,
      "metadata": {
        "colab": {
          "base_uri": "https://localhost:8080/"
        },
        "id": "ug4ocLqJDJaf",
        "outputId": "73a5156b-9116-4050-c5ed-fc2a9d063842"
      },
      "outputs": [
        {
          "output_type": "stream",
          "name": "stdout",
          "text": [
            "HmGf 5837 #\n"
          ]
        }
      ],
      "source": [
        "import random\n",
        "import string\n",
        "\n",
        "for i in range(1):\n",
        "    result_str = ''.join(random.sample(string.ascii_letters,4))\n",
        "    numbers = ''.join(random.sample(string.digits,4))\n",
        "    symbols= ''.join(random.choice(\"?%$#@\"))\n",
        "    print(result_str,numbers,symbols)\n",
        " # improve this by making it so the user can add was type of pass word they need,\n",
        " # how many letters, numbers, symbols"
      ]
    },
    {
      "cell_type": "markdown",
      "source": [
        "# **Version with inputs**"
      ],
      "metadata": {
        "id": "dGqfnkmCz1Kw"
      }
    },
    {
      "cell_type": "code",
      "source": [
        "import random\n",
        "import string\n",
        "\n",
        "print(\"Hi I'm a password generator! \\n\")\n",
        "number_input = input(\"Tell me how many numbers you need:\")\n",
        "letter_input = input(\"Tell me how many letters you need:\")\n",
        "print('')\n",
        "for i in range(1):\n",
        "    letter =  int(letter_input)\n",
        "    number = int(number_input)\n",
        "    result_str = ''.join(random.sample(string.ascii_letters,letter))\n",
        "    dash = \"-\"\n",
        "    numbers = ''.join(random.sample(string.digits,number))\n",
        "    symbols= ''.join(random.choice(\"?%$#@\"))\n",
        "    print(f'Your password: {result_str}{dash}{numbers}{dash}{symbols}')"
      ],
      "metadata": {
        "id": "bdlmDDcBD0uf"
      },
      "execution_count": null,
      "outputs": []
    },
    {
      "cell_type": "markdown",
      "source": [
        "# **Idea for Improvements**\n",
        "\n",
        "- randomize the combination of letters and numbers and location of symbols"
      ],
      "metadata": {
        "id": "D5D0R_auz9FP"
      }
    },
    {
      "cell_type": "code",
      "source": [
        ""
      ],
      "metadata": {
        "id": "XvGWaUDA0WPK"
      },
      "execution_count": null,
      "outputs": []
    }
  ]
}